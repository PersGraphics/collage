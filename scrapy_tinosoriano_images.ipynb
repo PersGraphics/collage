{
  "cells": [
    {
      "cell_type": "markdown",
      "metadata": {
        "id": "view-in-github",
        "colab_type": "text"
      },
      "source": [
        "<a href=\"https://colab.research.google.com/github/PersGraphics/collage/blob/main/scrapy_tinosoriano_images.ipynb\" target=\"_parent\"><img src=\"https://colab.research.google.com/assets/colab-badge.svg\" alt=\"Open In Colab\"/></a>"
      ]
    },
    {
      "cell_type": "markdown",
      "metadata": {
        "id": "pf52ZoDEgHjE"
      },
      "source": [
        "# Creación del proyecto"
      ]
    },
    {
      "cell_type": "code",
      "execution_count": null,
      "metadata": {
        "colab": {
          "base_uri": "https://localhost:8080/"
        },
        "id": "-JjL1SQFgDG5",
        "outputId": "a345e860-833e-4410-e989-eab24e02266b"
      },
      "outputs": [
        {
          "name": "stdout",
          "output_type": "stream",
          "text": [
            "Looking in indexes: https://pypi.org/simple, https://us-python.pkg.dev/colab-wheels/public/simple/\n",
            "Requirement already satisfied: Scrapy in /usr/local/lib/python3.8/dist-packages (2.7.1)\n",
            "Requirement already satisfied: service-identity>=18.1.0 in /usr/local/lib/python3.8/dist-packages (from Scrapy) (21.1.0)\n",
            "Requirement already satisfied: cssselect>=0.9.1 in /usr/local/lib/python3.8/dist-packages (from Scrapy) (1.2.0)\n",
            "Requirement already satisfied: queuelib>=1.4.2 in /usr/local/lib/python3.8/dist-packages (from Scrapy) (1.6.2)\n",
            "Requirement already satisfied: PyDispatcher>=2.0.5 in /usr/local/lib/python3.8/dist-packages (from Scrapy) (2.0.6)\n",
            "Requirement already satisfied: lxml>=4.3.0 in /usr/local/lib/python3.8/dist-packages (from Scrapy) (4.9.1)\n",
            "Requirement already satisfied: setuptools in /usr/local/lib/python3.8/dist-packages (from Scrapy) (57.4.0)\n",
            "Requirement already satisfied: pyOpenSSL>=21.0.0 in /usr/local/lib/python3.8/dist-packages (from Scrapy) (22.1.0)\n",
            "Requirement already satisfied: itemloaders>=1.0.1 in /usr/local/lib/python3.8/dist-packages (from Scrapy) (1.0.6)\n",
            "Requirement already satisfied: w3lib>=1.17.0 in /usr/local/lib/python3.8/dist-packages (from Scrapy) (2.1.1)\n",
            "Requirement already satisfied: tldextract in /usr/local/lib/python3.8/dist-packages (from Scrapy) (3.4.0)\n",
            "Requirement already satisfied: parsel>=1.5.0 in /usr/local/lib/python3.8/dist-packages (from Scrapy) (1.7.0)\n",
            "Requirement already satisfied: Twisted>=18.9.0 in /usr/local/lib/python3.8/dist-packages (from Scrapy) (22.10.0)\n",
            "Requirement already satisfied: itemadapter>=0.1.0 in /usr/local/lib/python3.8/dist-packages (from Scrapy) (0.7.0)\n",
            "Requirement already satisfied: cryptography>=3.3 in /usr/local/lib/python3.8/dist-packages (from Scrapy) (38.0.4)\n",
            "Requirement already satisfied: zope.interface>=5.1.0 in /usr/local/lib/python3.8/dist-packages (from Scrapy) (5.5.2)\n",
            "Requirement already satisfied: protego>=0.1.15 in /usr/local/lib/python3.8/dist-packages (from Scrapy) (0.2.1)\n",
            "Requirement already satisfied: packaging in /usr/local/lib/python3.8/dist-packages (from Scrapy) (21.3)\n",
            "Requirement already satisfied: cffi>=1.12 in /usr/local/lib/python3.8/dist-packages (from cryptography>=3.3->Scrapy) (1.15.1)\n",
            "Requirement already satisfied: pycparser in /usr/local/lib/python3.8/dist-packages (from cffi>=1.12->cryptography>=3.3->Scrapy) (2.21)\n",
            "Requirement already satisfied: jmespath>=0.9.5 in /usr/local/lib/python3.8/dist-packages (from itemloaders>=1.0.1->Scrapy) (1.0.1)\n",
            "Requirement already satisfied: six in /usr/local/lib/python3.8/dist-packages (from protego>=0.1.15->Scrapy) (1.15.0)\n",
            "Requirement already satisfied: attrs>=19.1.0 in /usr/local/lib/python3.8/dist-packages (from service-identity>=18.1.0->Scrapy) (22.1.0)\n",
            "Requirement already satisfied: pyasn1 in /usr/local/lib/python3.8/dist-packages (from service-identity>=18.1.0->Scrapy) (0.4.8)\n",
            "Requirement already satisfied: pyasn1-modules in /usr/local/lib/python3.8/dist-packages (from service-identity>=18.1.0->Scrapy) (0.2.8)\n",
            "Requirement already satisfied: typing-extensions>=3.6.5 in /usr/local/lib/python3.8/dist-packages (from Twisted>=18.9.0->Scrapy) (4.4.0)\n",
            "Requirement already satisfied: constantly>=15.1 in /usr/local/lib/python3.8/dist-packages (from Twisted>=18.9.0->Scrapy) (15.1.0)\n",
            "Requirement already satisfied: Automat>=0.8.0 in /usr/local/lib/python3.8/dist-packages (from Twisted>=18.9.0->Scrapy) (22.10.0)\n",
            "Requirement already satisfied: incremental>=21.3.0 in /usr/local/lib/python3.8/dist-packages (from Twisted>=18.9.0->Scrapy) (22.10.0)\n",
            "Requirement already satisfied: hyperlink>=17.1.1 in /usr/local/lib/python3.8/dist-packages (from Twisted>=18.9.0->Scrapy) (21.0.0)\n",
            "Requirement already satisfied: idna>=2.5 in /usr/local/lib/python3.8/dist-packages (from hyperlink>=17.1.1->Twisted>=18.9.0->Scrapy) (2.10)\n",
            "Requirement already satisfied: pyparsing!=3.0.5,>=2.0.2 in /usr/local/lib/python3.8/dist-packages (from packaging->Scrapy) (3.0.9)\n",
            "Requirement already satisfied: filelock>=3.0.8 in /usr/local/lib/python3.8/dist-packages (from tldextract->Scrapy) (3.8.0)\n",
            "Requirement already satisfied: requests-file>=1.4 in /usr/local/lib/python3.8/dist-packages (from tldextract->Scrapy) (1.5.1)\n",
            "Requirement already satisfied: requests>=2.1.0 in /usr/local/lib/python3.8/dist-packages (from tldextract->Scrapy) (2.23.0)\n",
            "Requirement already satisfied: urllib3!=1.25.0,!=1.25.1,<1.26,>=1.21.1 in /usr/local/lib/python3.8/dist-packages (from requests>=2.1.0->tldextract->Scrapy) (1.24.3)\n",
            "Requirement already satisfied: chardet<4,>=3.0.2 in /usr/local/lib/python3.8/dist-packages (from requests>=2.1.0->tldextract->Scrapy) (3.0.4)\n",
            "Requirement already satisfied: certifi>=2017.4.17 in /usr/local/lib/python3.8/dist-packages (from requests>=2.1.0->tldextract->Scrapy) (2022.9.24)\n",
            "\u001b[31mERROR: Operation cancelled by user\u001b[0m\n",
            "Traceback (most recent call last):\n",
            "  File \"/usr/local/lib/python3.8/dist-packages/pip/_vendor/pkg_resources/__init__.py\", line 3021, in _dep_map\n",
            "    return self.__dep_map\n",
            "  File \"/usr/local/lib/python3.8/dist-packages/pip/_vendor/pkg_resources/__init__.py\", line 2815, in __getattr__\n",
            "    raise AttributeError(attr)\n",
            "AttributeError: _DistInfoDistribution__dep_map\n",
            "\n",
            "During handling of the above exception, another exception occurred:\n",
            "\n",
            "Traceback (most recent call last):\n",
            "  File \"/usr/local/lib/python3.8/dist-packages/pip/_internal/cli/base_command.py\", line 180, in _main\n",
            "    status = self.run(options, args)\n",
            "  File \"/usr/local/lib/python3.8/dist-packages/pip/_internal/cli/req_command.py\", line 199, in wrapper\n",
            "    return func(self, options, args)\n",
            "  File \"/usr/local/lib/python3.8/dist-packages/pip/_internal/commands/install.py\", line 385, in run\n",
            "    conflicts = self._determine_conflicts(to_install)\n",
            "  File \"/usr/local/lib/python3.8/dist-packages/pip/_internal/commands/install.py\", line 515, in _determine_conflicts\n",
            "    return check_install_conflicts(to_install)\n",
            "  File \"/usr/local/lib/python3.8/dist-packages/pip/_internal/operations/check.py\", line 103, in check_install_conflicts\n",
            "    package_set, _ = create_package_set_from_installed()\n",
            "  File \"/usr/local/lib/python3.8/dist-packages/pip/_internal/operations/check.py\", line 45, in create_package_set_from_installed\n",
            "    package_set[name] = PackageDetails(dist.version, dist.requires())\n",
            "  File \"/usr/local/lib/python3.8/dist-packages/pip/_vendor/pkg_resources/__init__.py\", line 2736, in requires\n",
            "    dm = self._dep_map\n",
            "  File \"/usr/local/lib/python3.8/dist-packages/pip/_vendor/pkg_resources/__init__.py\", line 3023, in _dep_map\n",
            "    self.__dep_map = self._compute_dependencies()\n",
            "  File \"/usr/local/lib/python3.8/dist-packages/pip/_vendor/pkg_resources/__init__.py\", line 3033, in _compute_dependencies\n",
            "    reqs.extend(parse_requirements(req))\n",
            "  File \"/usr/local/lib/python3.8/dist-packages/pip/_vendor/pkg_resources/__init__.py\", line 3094, in parse_requirements\n",
            "    yield Requirement(line)\n",
            "  File \"/usr/local/lib/python3.8/dist-packages/pip/_vendor/pkg_resources/__init__.py\", line 3101, in __init__\n",
            "    super(Requirement, self).__init__(requirement_string)\n",
            "  File \"/usr/local/lib/python3.8/dist-packages/pip/_vendor/packaging/requirements.py\", line 113, in __init__\n",
            "    req = REQUIREMENT.parseString(requirement_string)\n",
            "  File \"/usr/local/lib/python3.8/dist-packages/pip/_vendor/pyparsing.py\", line 1943, in parseString\n",
            "    loc, tokens = self._parse(instring, 0)\n",
            "  File \"/usr/local/lib/python3.8/dist-packages/pip/_vendor/pyparsing.py\", line 1683, in _parseNoCache\n",
            "    loc, tokens = self.parseImpl(instring, preloc, doActions)\n",
            "  File \"/usr/local/lib/python3.8/dist-packages/pip/_vendor/pyparsing.py\", line 4069, in parseImpl\n",
            "    loc, exprtokens = e._parse(instring, loc, doActions)\n",
            "  File \"/usr/local/lib/python3.8/dist-packages/pip/_vendor/pyparsing.py\", line 1683, in _parseNoCache\n",
            "    loc, tokens = self.parseImpl(instring, preloc, doActions)\n",
            "  File \"/usr/local/lib/python3.8/dist-packages/pip/_vendor/pyparsing.py\", line 4254, in parseImpl\n",
            "    ret = e._parse(instring, loc, doActions)\n",
            "  File \"/usr/local/lib/python3.8/dist-packages/pip/_vendor/pyparsing.py\", line 1683, in _parseNoCache\n",
            "    loc, tokens = self.parseImpl(instring, preloc, doActions)\n",
            "  File \"/usr/local/lib/python3.8/dist-packages/pip/_vendor/pyparsing.py\", line 4069, in parseImpl\n",
            "    loc, exprtokens = e._parse(instring, loc, doActions)\n",
            "  File \"/usr/local/lib/python3.8/dist-packages/pip/_vendor/pyparsing.py\", line 1683, in _parseNoCache\n",
            "    loc, tokens = self.parseImpl(instring, preloc, doActions)\n",
            "  File \"/usr/local/lib/python3.8/dist-packages/pip/_vendor/pyparsing.py\", line 4849, in parseImpl\n",
            "    loc, tokens = self.expr._parse(instring, loc, doActions, callPreParse=False)\n",
            "  File \"/usr/local/lib/python3.8/dist-packages/pip/_vendor/pyparsing.py\", line 1683, in _parseNoCache\n",
            "    loc, tokens = self.parseImpl(instring, preloc, doActions)\n",
            "  File \"/usr/local/lib/python3.8/dist-packages/pip/_vendor/pyparsing.py\", line 4071, in parseImpl\n",
            "    resultlist += exprtokens\n",
            "  File \"/usr/local/lib/python3.8/dist-packages/pip/_vendor/pyparsing.py\", line 865, in __iadd__\n",
            "    self.__accumNames.update(other.__accumNames)\n",
            "KeyboardInterrupt\n",
            "\n",
            "During handling of the above exception, another exception occurred:\n",
            "\n",
            "Traceback (most recent call last):\n",
            "  File \"/usr/local/bin/pip3\", line 8, in <module>\n",
            "    sys.exit(main())\n",
            "  File \"/usr/local/lib/python3.8/dist-packages/pip/_internal/cli/main.py\", line 71, in main\n",
            "    return command.main(cmd_args)\n",
            "  File \"/usr/local/lib/python3.8/dist-packages/pip/_internal/cli/base_command.py\", line 104, in main\n",
            "    return self._main(args)\n",
            "  File \"/usr/local/lib/python3.8/dist-packages/pip/_internal/cli/base_command.py\", line 213, in _main\n",
            "    logger.debug(\"Exception information:\", exc_info=True)\n",
            "  File \"/usr/lib/python3.8/logging/__init__.py\", line 1434, in debug\n",
            "    self._log(DEBUG, msg, args, **kwargs)\n",
            "  File \"/usr/lib/python3.8/logging/__init__.py\", line 1589, in _log\n",
            "    self.handle(record)\n",
            "  File \"/usr/lib/python3.8/logging/__init__.py\", line 1599, in handle\n",
            "    self.callHandlers(record)\n",
            "  File \"/usr/lib/python3.8/logging/__init__.py\", line 1661, in callHandlers\n",
            "    hdlr.handle(record)\n",
            "  File \"/usr/lib/python3.8/logging/__init__.py\", line 954, in handle\n",
            "    self.emit(record)\n",
            "  File \"/usr/lib/python3.8/logging/handlers.py\", line 71, in emit\n",
            "    logging.FileHandler.emit(self, record)\n",
            "  File \"/usr/lib/python3.8/logging/__init__.py\", line 1187, in emit\n",
            "    StreamHandler.emit(self, record)\n",
            "  File \"/usr/lib/python3.8/logging/__init__.py\", line 1085, in emit\n",
            "    msg = self.format(record)\n",
            "  File \"/usr/lib/python3.8/logging/__init__.py\", line 929, in format\n",
            "    return fmt.format(record)\n",
            "  File \"/usr/local/lib/python3.8/dist-packages/pip/_internal/utils/logging.py\", line 130, in format\n",
            "    formatted = super().format(record)\n",
            "  File \"/usr/lib/python3.8/logging/__init__.py\", line 676, in format\n",
            "    record.exc_text = self.formatException(record.exc_info)\n",
            "  File \"/usr/lib/python3.8/logging/__init__.py\", line 626, in formatException\n",
            "    traceback.print_exception(ei[0], ei[1], tb, None, sio)\n",
            "  File \"/usr/lib/python3.8/traceback.py\", line 103, in print_exception\n",
            "    for line in TracebackException(\n",
            "  File \"/usr/lib/python3.8/traceback.py\", line 508, in __init__\n",
            "    self.stack = StackSummary.extract(\n",
            "  File \"/usr/lib/python3.8/traceback.py\", line 366, in extract\n",
            "    f.line\n",
            "  File \"/usr/lib/python3.8/traceback.py\", line 288, in line\n",
            "    self._line = linecache.getline(self.filename, self.lineno).strip()\n",
            "  File \"/usr/lib/python3.8/linecache.py\", line 16, in getline\n",
            "    lines = getlines(filename, module_globals)\n",
            "KeyboardInterrupt\n",
            "^C\n"
          ]
        }
      ],
      "source": [
        "# instalación de Scrapy\n",
        "!pip install Scrapy"
      ]
    },
    {
      "cell_type": "code",
      "execution_count": null,
      "metadata": {
        "colab": {
          "base_uri": "https://localhost:8080/"
        },
        "id": "CbPN2xf_gU5l",
        "outputId": "efc32cad-357d-46d8-a1ff-77638c8c403f"
      },
      "outputs": [
        {
          "name": "stdout",
          "output_type": "stream",
          "text": [
            "New Scrapy project 'project_faces', using template directory '/usr/local/lib/python3.8/dist-packages/scrapy/templates/project', created in:\n",
            "    /content/scrapy\n",
            "\n",
            "You can start your first spider with:\n",
            "    cd scrapy\n",
            "    scrapy genspider example example.com\n"
          ]
        }
      ],
      "source": [
        "# creación del proyecto\n",
        "!scrapy startproject project_faces scrapy"
      ]
    },
    {
      "cell_type": "code",
      "execution_count": null,
      "metadata": {
        "colab": {
          "base_uri": "https://localhost:8080/"
        },
        "id": "ej1L2-6Bgnzq",
        "outputId": "0d732a52-8a40-4b7f-a0e9-451049af7b3f"
      },
      "outputs": [
        {
          "name": "stdout",
          "output_type": "stream",
          "text": [
            "Created spider 'FindFaces' using template 'basic' in module:\n",
            "  project_faces.spiders.FindFaces\n"
          ]
        }
      ],
      "source": [
        "# creación del spider\n",
        "!cd scrapy/project_faces && scrapy genspider FindFaces https://www.tinosoriano.com/blog/"
      ]
    },
    {
      "cell_type": "markdown",
      "metadata": {
        "id": "NCJ62iCGibB0"
      },
      "source": [
        "## Edición de path/to/settings.py\n",
        "\n",
        "\n",
        "\n",
        "*   USER_AGENT\n",
        "*   ROBOTSTXT_OBEY\n",
        "*   DEFAULT_REQUEST_HEADERS\n",
        "\n"
      ]
    },
    {
      "cell_type": "code",
      "execution_count": null,
      "metadata": {
        "colab": {
          "base_uri": "https://localhost:8080/"
        },
        "id": "7In0vQc-lJD_",
        "outputId": "40242904-8ffc-45f0-f4a0-8e0e1ae8020d"
      },
      "outputs": [
        {
          "name": "stdout",
          "output_type": "stream",
          "text": [
            "Overwriting scrapy/project_faces/settings.py\n"
          ]
        }
      ],
      "source": [
        "%%writefile scrapy/project_faces/settings.py\n",
        "\n",
        "BOT_NAME = 'project_faces'\n",
        "\n",
        "SPIDER_MODULES = ['project_faces.spiders']\n",
        "NEWSPIDER_MODULE = 'project_faces.spiders'\n",
        "\n",
        "USER_AGENT = 'Mozilla/5.0 (Windows NT 10.0; Win64; x64) AppleWebKit/537.36 (KHTML, like Gecko) Chrome/107.0.0.0 Safari/537.36'\n",
        "\n",
        "ROBOTSTXT_OBEY = False\n",
        "\n",
        "DEFAULT_REQUEST_HEADERS = {\n",
        "   'Accept': 'text/html,application/xhtml+xml,application/xml;q=0.9,*/*;q=0.8',\n",
        "   'Accept-Language': 'es',\n",
        "}\n",
        "\n",
        "REQUEST_FINGERPRINTER_IMPLEMENTATION = '2.7'\n",
        "TWISTED_REACTOR = 'twisted.internet.asyncioreactor.AsyncioSelectorReactor'"
      ]
    },
    {
      "cell_type": "code",
      "execution_count": 97,
      "metadata": {
        "colab": {
          "base_uri": "https://localhost:8080/"
        },
        "id": "U8hOmUP63HZq",
        "outputId": "7ac79735-0e25-4162-bf43-c9761496a618"
      },
      "outputs": [
        {
          "output_type": "stream",
          "name": "stdout",
          "text": [
            "Overwriting scrapy/project_faces/spiders/FindFaces.py\n"
          ]
        }
      ],
      "source": [
        "%%writefile scrapy/project_faces/spiders/FindFaces.py\n",
        "import scrapy\n",
        "\n",
        "class FindfacesSpider(scrapy.Spider):\n",
        "    name = 'FindFaces'\n",
        "    allowed_domains = ['www.tinosoriano.com']\n",
        "    start_urls = ['https://www.tinosoriano.com/blog/']\n",
        "    pages = 1\n",
        "    max_web = 1\n",
        "    def parse(self, response):\n",
        "        posts = response.css('.entry-header')\n",
        "        for post in posts:\n",
        "            href = post.css('.entry-title > a::attr(href)').get()\n",
        "            print(\"href:\", href)\n",
        "            yield scrapy.Request(href, callback = self.parse_post, meta={'href': href})\n",
        "        next_page = response.css('.pagination-next')\n",
        "        print(next_page)\n",
        "        self.pages += 1\n",
        "        if (len(next_page) > 0) and (self.pages < self.max_web):\n",
        "            next_href = next_page.css('a::attr(href)').get()\n",
        "            yield scrapy.Request(next_href)\n",
        "\n",
        "    def parse_post(self, response):\n",
        "        href = response.meta.get('href')    \n",
        "        element = response.xpath('//figure[@class=\"wp-block-image\"]')\n",
        "        for item in element:\n",
        "            img = item.css('img::attr(src)').get()\n",
        "            yield { 'img': img ,'href': href}"
      ]
    },
    {
      "cell_type": "markdown",
      "source": [
        "# Ejecución del spider"
      ],
      "metadata": {
        "id": "ZHJEkXaOwR9L"
      }
    },
    {
      "cell_type": "code",
      "execution_count": 105,
      "metadata": {
        "colab": {
          "base_uri": "https://localhost:8080/"
        },
        "id": "OcOEA-_0j35Z",
        "outputId": "439e9541-eb92-4d27-ba42-44533ffcd785"
      },
      "outputs": [
        {
          "output_type": "stream",
          "name": "stdout",
          "text": [
            "2022-12-14 18:19:07 [scrapy.utils.log] INFO: Scrapy 2.7.1 started (bot: project_faces)\n",
            "2022-12-14 18:19:07 [scrapy.utils.log] INFO: Versions: lxml 4.9.1.0, libxml2 2.9.14, cssselect 1.2.0, parsel 1.7.0, w3lib 2.1.1, Twisted 22.10.0, Python 3.8.16 (default, Dec  7 2022, 01:12:13) - [GCC 7.5.0], pyOpenSSL 22.1.0 (OpenSSL 3.0.7 1 Nov 2022), cryptography 38.0.4, Platform Linux-5.10.133+-x86_64-with-glibc2.27\n",
            "2022-12-14 18:19:07 [scrapy.crawler] INFO: Overridden settings:\n",
            "{'BOT_NAME': 'project_faces',\n",
            " 'NEWSPIDER_MODULE': 'project_faces.spiders',\n",
            " 'REQUEST_FINGERPRINTER_IMPLEMENTATION': '2.7',\n",
            " 'SPIDER_MODULES': ['project_faces.spiders'],\n",
            " 'TWISTED_REACTOR': 'twisted.internet.asyncioreactor.AsyncioSelectorReactor',\n",
            " 'USER_AGENT': 'Mozilla/5.0 (Windows NT 10.0; Win64; x64) AppleWebKit/537.36 '\n",
            "               '(KHTML, like Gecko) Chrome/107.0.0.0 Safari/537.36'}\n",
            "2022-12-14 18:19:07 [asyncio] DEBUG: Using selector: EpollSelector\n",
            "2022-12-14 18:19:07 [scrapy.utils.log] DEBUG: Using reactor: twisted.internet.asyncioreactor.AsyncioSelectorReactor\n",
            "2022-12-14 18:19:07 [scrapy.utils.log] DEBUG: Using asyncio event loop: asyncio.unix_events._UnixSelectorEventLoop\n",
            "2022-12-14 18:19:07 [scrapy.extensions.telnet] INFO: Telnet Password: 9cd808c35ea5f605\n",
            "2022-12-14 18:19:07 [scrapy.middleware] INFO: Enabled extensions:\n",
            "['scrapy.extensions.corestats.CoreStats',\n",
            " 'scrapy.extensions.telnet.TelnetConsole',\n",
            " 'scrapy.extensions.memusage.MemoryUsage',\n",
            " 'scrapy.extensions.feedexport.FeedExporter',\n",
            " 'scrapy.extensions.logstats.LogStats']\n",
            "2022-12-14 18:19:07 [scrapy.middleware] INFO: Enabled downloader middlewares:\n",
            "['scrapy.downloadermiddlewares.httpauth.HttpAuthMiddleware',\n",
            " 'scrapy.downloadermiddlewares.downloadtimeout.DownloadTimeoutMiddleware',\n",
            " 'scrapy.downloadermiddlewares.defaultheaders.DefaultHeadersMiddleware',\n",
            " 'scrapy.downloadermiddlewares.useragent.UserAgentMiddleware',\n",
            " 'scrapy.downloadermiddlewares.retry.RetryMiddleware',\n",
            " 'scrapy.downloadermiddlewares.redirect.MetaRefreshMiddleware',\n",
            " 'scrapy.downloadermiddlewares.httpcompression.HttpCompressionMiddleware',\n",
            " 'scrapy.downloadermiddlewares.redirect.RedirectMiddleware',\n",
            " 'scrapy.downloadermiddlewares.cookies.CookiesMiddleware',\n",
            " 'scrapy.downloadermiddlewares.httpproxy.HttpProxyMiddleware',\n",
            " 'scrapy.downloadermiddlewares.stats.DownloaderStats']\n",
            "2022-12-14 18:19:07 [scrapy.middleware] INFO: Enabled spider middlewares:\n",
            "['scrapy.spidermiddlewares.httperror.HttpErrorMiddleware',\n",
            " 'scrapy.spidermiddlewares.offsite.OffsiteMiddleware',\n",
            " 'scrapy.spidermiddlewares.referer.RefererMiddleware',\n",
            " 'scrapy.spidermiddlewares.urllength.UrlLengthMiddleware',\n",
            " 'scrapy.spidermiddlewares.depth.DepthMiddleware']\n",
            "2022-12-14 18:19:07 [scrapy.middleware] INFO: Enabled item pipelines:\n",
            "[]\n",
            "2022-12-14 18:19:07 [scrapy.core.engine] INFO: Spider opened\n",
            "2022-12-14 18:19:08 [scrapy.extensions.logstats] INFO: Crawled 0 pages (at 0 pages/min), scraped 0 items (at 0 items/min)\n",
            "2022-12-14 18:19:08 [scrapy.extensions.telnet] INFO: Telnet console listening on 127.0.0.1:6023\n",
            "2022-12-14 18:19:10 [scrapy.core.engine] DEBUG: Crawled (200) <GET https://www.tinosoriano.com/blog/> (referer: None)\n",
            "href: https://www.tinosoriano.com/blog/2020/05/cesar-lucas-abreu-fotografia-grandes-amigos-y-rock-and-roll.html\n",
            "href: https://www.tinosoriano.com/blog/2020/04/el-espiritu-emprendedor-de-los-alguersuari-y-un-300-f-2-8.html\n",
            "href: https://www.tinosoriano.com/blog/2020/04/el-prologo-que-motivo-a-miles-de-fotoperiodistas.html\n",
            "href: https://www.tinosoriano.com/blog/2020/04/la-etica-del-reportero.html\n",
            "href: https://www.tinosoriano.com/blog/2020/04/los-derechos-de-imagen-en-los-tiempos-heroicos.html\n",
            "href: https://www.tinosoriano.com/blog/2020/04/cuando-la-presencia-de-una-camara-puede-causar-la-muerte.html\n",
            "href: https://www.tinosoriano.com/blog/2020/04/los-magnates-que-quisieron-hacer-un-mundo-mejor-gracias-a-la-fotografia.html\n",
            "href: https://www.tinosoriano.com/blog/2020/04/el-fotografo-que-se-tiro-por-la-ventana-para-conseguir-un-empleo-y-otras-anecdotas.html\n",
            "href: https://www.tinosoriano.com/blog/2020/03/el-dia-que-robert-capa-conocio-a-ingrid-bergman.html\n",
            "href: https://www.tinosoriano.com/blog/2019/08/un-libro-que-bate-todos-los-records.html\n",
            "[<Selector xpath=\"descendant-or-self::*[@class and contains(concat(' ', normalize-space(@class), ' '), ' pagination-next ')]\" data='<div class=\"pagination-next alignrigh...'>]\n",
            "2022-12-14 18:19:11 [scrapy.core.engine] DEBUG: Crawled (200) <GET https://www.tinosoriano.com/blog/2019/08/un-libro-que-bate-todos-los-records.html> (referer: https://www.tinosoriano.com/blog/)\n",
            "2022-12-14 18:19:11 [scrapy.core.scraper] DEBUG: Scraped from <200 https://www.tinosoriano.com/blog/2019/08/un-libro-que-bate-todos-los-records.html>\n",
            "{'img': 'https://www.tinosoriano.com/blog/wp-content/uploads/2019/08/Ventas-número-3-1024x455-1024x455.jpg', 'href': 'https://www.tinosoriano.com/blog/2019/08/un-libro-que-bate-todos-los-records.html'}\n",
            "2022-12-14 18:19:11 [scrapy.core.scraper] DEBUG: Scraped from <200 https://www.tinosoriano.com/blog/2019/08/un-libro-que-bate-todos-los-records.html>\n",
            "{'img': 'https://www.tinosoriano.com/blog/wp-content/uploads/2019/08/Amazon-30-05-19-Mas-vendidos-OK-1024x573.jpg', 'href': 'https://www.tinosoriano.com/blog/2019/08/un-libro-que-bate-todos-los-records.html'}\n",
            "2022-12-14 18:19:11 [scrapy.core.scraper] DEBUG: Scraped from <200 https://www.tinosoriano.com/blog/2019/08/un-libro-que-bate-todos-los-records.html>\n",
            "{'img': 'https://www.tinosoriano.com/blog/wp-content/uploads/2019/08/Portada-ayudame_20-02-19-880x1024.jpg', 'href': 'https://www.tinosoriano.com/blog/2019/08/un-libro-que-bate-todos-los-records.html'}\n",
            "2022-12-14 18:19:11 [scrapy.core.scraper] DEBUG: Scraped from <200 https://www.tinosoriano.com/blog/2019/08/un-libro-que-bate-todos-los-records.html>\n",
            "{'img': 'https://www.tinosoriano.com/blog/wp-content/uploads/2019/08/190723165734-siria-fotografo-anas-diab-bombardeo-fallece-pkg-jomana-karadsheh-00004117-large-169-1.jpg', 'href': 'https://www.tinosoriano.com/blog/2019/08/un-libro-que-bate-todos-los-records.html'}\n",
            "2022-12-14 18:19:11 [scrapy.core.engine] DEBUG: Crawled (200) <GET https://www.tinosoriano.com/blog/2020/04/los-derechos-de-imagen-en-los-tiempos-heroicos.html> (referer: https://www.tinosoriano.com/blog/)\n",
            "2022-12-14 18:19:11 [scrapy.core.engine] DEBUG: Crawled (200) <GET https://www.tinosoriano.com/blog/2020/04/la-etica-del-reportero.html> (referer: https://www.tinosoriano.com/blog/)\n",
            "2022-12-14 18:19:11 [scrapy.core.engine] DEBUG: Crawled (200) <GET https://www.tinosoriano.com/blog/2020/04/el-fotografo-que-se-tiro-por-la-ventana-para-conseguir-un-empleo-y-otras-anecdotas.html> (referer: https://www.tinosoriano.com/blog/)\n",
            "2022-12-14 18:19:11 [scrapy.core.engine] DEBUG: Crawled (200) <GET https://www.tinosoriano.com/blog/2020/04/el-prologo-que-motivo-a-miles-de-fotoperiodistas.html> (referer: https://www.tinosoriano.com/blog/)\n",
            "2022-12-14 18:19:12 [scrapy.core.engine] DEBUG: Crawled (200) <GET https://www.tinosoriano.com/blog/2020/03/el-dia-que-robert-capa-conocio-a-ingrid-bergman.html> (referer: https://www.tinosoriano.com/blog/)\n",
            "2022-12-14 18:19:12 [scrapy.core.scraper] DEBUG: Scraped from <200 https://www.tinosoriano.com/blog/2020/04/los-derechos-de-imagen-en-los-tiempos-heroicos.html>\n",
            "{'img': 'https://www.tinosoriano.com/blog/wp-content/uploads/2020/04/Sarah-1024x887.jpg', 'href': 'https://www.tinosoriano.com/blog/2020/04/los-derechos-de-imagen-en-los-tiempos-heroicos.html'}\n",
            "2022-12-14 18:19:12 [scrapy.core.scraper] DEBUG: Scraped from <200 https://www.tinosoriano.com/blog/2020/04/los-derechos-de-imagen-en-los-tiempos-heroicos.html>\n",
            "{'img': 'https://www.tinosoriano.com/blog/wp-content/uploads/2020/04/63a-Lillie-Langtry-–-Fotografía-de-J.-M.-Mora-1884-690x1024.jpg', 'href': 'https://www.tinosoriano.com/blog/2020/04/los-derechos-de-imagen-en-los-tiempos-heroicos.html'}\n",
            "2022-12-14 18:19:12 [scrapy.core.scraper] DEBUG: Scraped from <200 https://www.tinosoriano.com/blog/2020/04/los-derechos-de-imagen-en-los-tiempos-heroicos.html>\n",
            "{'img': 'https://www.tinosoriano.com/blog/wp-content/uploads/2020/04/ron_galella_97-1024x576.jpg', 'href': 'https://www.tinosoriano.com/blog/2020/04/los-derechos-de-imagen-en-los-tiempos-heroicos.html'}\n",
            "2022-12-14 18:19:12 [scrapy.core.scraper] DEBUG: Scraped from <200 https://www.tinosoriano.com/blog/2020/04/la-etica-del-reportero.html>\n",
            "{'img': 'https://www.tinosoriano.com/blog/wp-content/uploads/2020/04/70-Sacerdote-cristiano-luchando-en-el-Líbano-1024x802.jpg', 'href': 'https://www.tinosoriano.com/blog/2020/04/la-etica-del-reportero.html'}\n",
            "2022-12-14 18:19:12 [scrapy.core.scraper] DEBUG: Scraped from <200 https://www.tinosoriano.com/blog/2020/04/la-etica-del-reportero.html>\n",
            "{'img': 'https://www.tinosoriano.com/blog/wp-content/uploads/2020/04/The-Vulture-Club-1-1024x550.jpg', 'href': 'https://www.tinosoriano.com/blog/2020/04/la-etica-del-reportero.html'}\n",
            "2022-12-14 18:19:12 [scrapy.core.scraper] DEBUG: Scraped from <200 https://www.tinosoriano.com/blog/2020/04/la-etica-del-reportero.html>\n",
            "{'img': 'https://www.tinosoriano.com/blog/wp-content/uploads/2020/04/prensa-1-1132x670.jpg', 'href': 'https://www.tinosoriano.com/blog/2020/04/la-etica-del-reportero.html'}\n",
            "2022-12-14 18:19:12 [scrapy.core.scraper] DEBUG: Scraped from <200 https://www.tinosoriano.com/blog/2020/04/el-fotografo-que-se-tiro-por-la-ventana-para-conseguir-un-empleo-y-otras-anecdotas.html>\n",
            "{'img': 'https://www.tinosoriano.com/blog/wp-content/uploads/2020/03/gettyimages-50543447-1024x1024.jpg', 'href': 'https://www.tinosoriano.com/blog/2020/04/el-fotografo-que-se-tiro-por-la-ventana-para-conseguir-un-empleo-y-otras-anecdotas.html'}\n",
            "2022-12-14 18:19:12 [scrapy.core.scraper] DEBUG: Scraped from <200 https://www.tinosoriano.com/blog/2020/04/el-prologo-que-motivo-a-miles-de-fotoperiodistas.html>\n",
            "{'img': 'https://www.tinosoriano.com/blog/wp-content/uploads/2020/04/margaret-bourke-white1-1-1024x717.jpg', 'href': 'https://www.tinosoriano.com/blog/2020/04/el-prologo-que-motivo-a-miles-de-fotoperiodistas.html'}\n",
            "2022-12-14 18:19:12 [scrapy.core.scraper] DEBUG: Scraped from <200 https://www.tinosoriano.com/blog/2020/04/el-prologo-que-motivo-a-miles-de-fotoperiodistas.html>\n",
            "{'img': 'https://www.tinosoriano.com/blog/wp-content/uploads/2020/04/151110-mills-robert-capa-tease_avu6nu-1024x576.jpg', 'href': 'https://www.tinosoriano.com/blog/2020/04/el-prologo-que-motivo-a-miles-de-fotoperiodistas.html'}\n",
            "2022-12-14 18:19:12 [scrapy.core.scraper] DEBUG: Scraped from <200 https://www.tinosoriano.com/blog/2020/04/el-prologo-que-motivo-a-miles-de-fotoperiodistas.html>\n",
            "{'img': 'https://www.tinosoriano.com/blog/wp-content/uploads/2020/04/margaret-bourke-white2.jpg', 'href': 'https://www.tinosoriano.com/blog/2020/04/el-prologo-que-motivo-a-miles-de-fotoperiodistas.html'}\n",
            "2022-12-14 18:19:12 [scrapy.core.scraper] DEBUG: Scraped from <200 https://www.tinosoriano.com/blog/2020/04/el-prologo-que-motivo-a-miles-de-fotoperiodistas.html>\n",
            "{'img': 'https://www.tinosoriano.com/blog/wp-content/uploads/2020/04/LIFE-Magazine-1936-11-23.jpg', 'href': 'https://www.tinosoriano.com/blog/2020/04/el-prologo-que-motivo-a-miles-de-fotoperiodistas.html'}\n",
            "2022-12-14 18:19:12 [scrapy.core.scraper] DEBUG: Scraped from <200 https://www.tinosoriano.com/blog/2020/03/el-dia-que-robert-capa-conocio-a-ingrid-bergman.html>\n",
            "{'img': 'https://www.tinosoriano.com/blog/wp-content/uploads/2020/03/Robert-Capa-y-Ingrid-1-1024x576.jpg', 'href': 'https://www.tinosoriano.com/blog/2020/03/el-dia-que-robert-capa-conocio-a-ingrid-bergman.html'}\n",
            "2022-12-14 18:19:12 [scrapy.core.engine] DEBUG: Crawled (200) <GET https://www.tinosoriano.com/blog/2020/04/cuando-la-presencia-de-una-camara-puede-causar-la-muerte.html> (referer: https://www.tinosoriano.com/blog/)\n",
            "2022-12-14 18:19:12 [scrapy.core.engine] DEBUG: Crawled (200) <GET https://www.tinosoriano.com/blog/2020/04/los-magnates-que-quisieron-hacer-un-mundo-mejor-gracias-a-la-fotografia.html> (referer: https://www.tinosoriano.com/blog/)\n",
            "2022-12-14 18:19:12 [scrapy.core.scraper] DEBUG: Scraped from <200 https://www.tinosoriano.com/blog/2020/04/cuando-la-presencia-de-una-camara-puede-causar-la-muerte.html>\n",
            "{'img': 'https://www.tinosoriano.com/blog/wp-content/uploads/2020/04/57-Ejecución-de-prisioneros-razakars-en-Bangla-Desh-1024x825.jpg', 'href': 'https://www.tinosoriano.com/blog/2020/04/cuando-la-presencia-de-una-camara-puede-causar-la-muerte.html'}\n",
            "2022-12-14 18:19:12 [scrapy.core.scraper] DEBUG: Scraped from <200 https://www.tinosoriano.com/blog/2020/04/cuando-la-presencia-de-una-camara-puede-causar-la-muerte.html>\n",
            "{'img': 'https://www.tinosoriano.com/blog/wp-content/uploads/2020/04/HorstFaasHalf-Page.png', 'href': 'https://www.tinosoriano.com/blog/2020/04/cuando-la-presencia-de-una-camara-puede-causar-la-muerte.html'}\n",
            "2022-12-14 18:19:12 [scrapy.core.engine] DEBUG: Crawled (200) <GET https://www.tinosoriano.com/blog/2020/04/el-espiritu-emprendedor-de-los-alguersuari-y-un-300-f-2-8.html> (referer: https://www.tinosoriano.com/blog/)\n",
            "2022-12-14 18:19:12 [scrapy.core.scraper] DEBUG: Scraped from <200 https://www.tinosoriano.com/blog/2020/04/los-magnates-que-quisieron-hacer-un-mundo-mejor-gracias-a-la-fotografia.html>\n",
            "{'img': 'https://www.tinosoriano.com/blog/wp-content/uploads/2020/04/14-Una-mujer-condenada-a-morir-de-hambre-en-Mongolia-Foto-de-Albert-Kahn-Alamy-1024x769.jpg', 'href': 'https://www.tinosoriano.com/blog/2020/04/los-magnates-que-quisieron-hacer-un-mundo-mejor-gracias-a-la-fotografia.html'}\n",
            "2022-12-14 18:19:12 [scrapy.core.scraper] DEBUG: Scraped from <200 https://www.tinosoriano.com/blog/2020/04/los-magnates-que-quisieron-hacer-un-mundo-mejor-gracias-a-la-fotografia.html>\n",
            "{'img': 'https://www.tinosoriano.com/blog/wp-content/uploads/2020/04/15-–-El-Emir-de-Bukhara-hoy-Uzbekistan-en-1910-Foto-de-la-colección-de-Sergey-Prokudin-Gorskii-90-1024x886.jpg', 'href': 'https://www.tinosoriano.com/blog/2020/04/los-magnates-que-quisieron-hacer-un-mundo-mejor-gracias-a-la-fotografia.html'}\n",
            "2022-12-14 18:19:12 [scrapy.core.scraper] DEBUG: Scraped from <200 https://www.tinosoriano.com/blog/2020/04/el-espiritu-emprendedor-de-los-alguersuari-y-un-300-f-2-8.html>\n",
            "{'img': 'https://www.tinosoriano.com/blog/wp-content/uploads/2020/04/LV_20091010_LV_FOTOS_D_53802199695-652x492@LaVanguardia-Web.jpg', 'href': 'https://www.tinosoriano.com/blog/2020/04/el-espiritu-emprendedor-de-los-alguersuari-y-un-300-f-2-8.html'}\n",
            "2022-12-14 18:19:12 [scrapy.core.scraper] DEBUG: Scraped from <200 https://www.tinosoriano.com/blog/2020/04/el-espiritu-emprendedor-de-los-alguersuari-y-un-300-f-2-8.html>\n",
            "{'img': 'https://www.tinosoriano.com/blog/wp-content/uploads/2020/04/Rally-de-Girona-1964-1024x659.jpeg', 'href': 'https://www.tinosoriano.com/blog/2020/04/el-espiritu-emprendedor-de-los-alguersuari-y-un-300-f-2-8.html'}\n",
            "2022-12-14 18:19:12 [scrapy.core.scraper] DEBUG: Scraped from <200 https://www.tinosoriano.com/blog/2020/04/el-espiritu-emprendedor-de-los-alguersuari-y-un-300-f-2-8.html>\n",
            "{'img': 'https://www.tinosoriano.com/blog/wp-content/uploads/2020/04/2-1024x968.jpg', 'href': 'https://www.tinosoriano.com/blog/2020/04/el-espiritu-emprendedor-de-los-alguersuari-y-un-300-f-2-8.html'}\n",
            "2022-12-14 18:19:12 [scrapy.core.scraper] DEBUG: Scraped from <200 https://www.tinosoriano.com/blog/2020/04/el-espiritu-emprendedor-de-los-alguersuari-y-un-300-f-2-8.html>\n",
            "{'img': 'https://www.tinosoriano.com/blog/wp-content/uploads/2020/04/5-683x1024.jpg', 'href': 'https://www.tinosoriano.com/blog/2020/04/el-espiritu-emprendedor-de-los-alguersuari-y-un-300-f-2-8.html'}\n",
            "2022-12-14 18:19:12 [scrapy.core.scraper] DEBUG: Scraped from <200 https://www.tinosoriano.com/blog/2020/04/el-espiritu-emprendedor-de-los-alguersuari-y-un-300-f-2-8.html>\n",
            "{'img': 'https://www.tinosoriano.com/blog/wp-content/uploads/2020/04/1-1024x668.jpg', 'href': 'https://www.tinosoriano.com/blog/2020/04/el-espiritu-emprendedor-de-los-alguersuari-y-un-300-f-2-8.html'}\n",
            "2022-12-14 18:19:12 [scrapy.core.scraper] DEBUG: Scraped from <200 https://www.tinosoriano.com/blog/2020/04/el-espiritu-emprendedor-de-los-alguersuari-y-un-300-f-2-8.html>\n",
            "{'img': 'https://www.tinosoriano.com/blog/wp-content/uploads/2020/04/José-María-Alguersuari-1024x677.jpeg', 'href': 'https://www.tinosoriano.com/blog/2020/04/el-espiritu-emprendedor-de-los-alguersuari-y-un-300-f-2-8.html'}\n",
            "2022-12-14 18:19:12 [scrapy.core.engine] DEBUG: Crawled (200) <GET https://www.tinosoriano.com/blog/2020/05/cesar-lucas-abreu-fotografia-grandes-amigos-y-rock-and-roll.html> (referer: https://www.tinosoriano.com/blog/)\n",
            "2022-12-14 18:19:12 [scrapy.core.scraper] DEBUG: Scraped from <200 https://www.tinosoriano.com/blog/2020/05/cesar-lucas-abreu-fotografia-grandes-amigos-y-rock-and-roll.html>\n",
            "{'img': 'https://www.tinosoriano.com/blog/wp-content/uploads/2020/05/MOP3761-90-1024x768.jpg', 'href': 'https://www.tinosoriano.com/blog/2020/05/cesar-lucas-abreu-fotografia-grandes-amigos-y-rock-and-roll.html'}\n",
            "2022-12-14 18:19:12 [scrapy.core.scraper] DEBUG: Scraped from <200 https://www.tinosoriano.com/blog/2020/05/cesar-lucas-abreu-fotografia-grandes-amigos-y-rock-and-roll.html>\n",
            "{'img': 'https://www.tinosoriano.com/blog/wp-content/uploads/2020/05/MOP3765-1024x966.jpg', 'href': 'https://www.tinosoriano.com/blog/2020/05/cesar-lucas-abreu-fotografia-grandes-amigos-y-rock-and-roll.html'}\n",
            "2022-12-14 18:19:12 [scrapy.core.engine] INFO: Closing spider (finished)\n",
            "2022-12-14 18:19:12 [scrapy.extensions.feedexport] INFO: Stored json feed (28 items) in: faces.json\n",
            "2022-12-14 18:19:12 [scrapy.statscollectors] INFO: Dumping Scrapy stats:\n",
            "{'downloader/request_bytes': 4404,\n",
            " 'downloader/request_count': 11,\n",
            " 'downloader/request_method_count/GET': 11,\n",
            " 'downloader/response_bytes': 93628,\n",
            " 'downloader/response_count': 11,\n",
            " 'downloader/response_status_count/200': 11,\n",
            " 'elapsed_time_seconds': 4.843626,\n",
            " 'feedexport/success_count/FileFeedStorage': 1,\n",
            " 'finish_reason': 'finished',\n",
            " 'finish_time': datetime.datetime(2022, 12, 14, 18, 19, 12, 863518),\n",
            " 'httpcompression/response_bytes': 311506,\n",
            " 'httpcompression/response_count': 11,\n",
            " 'item_scraped_count': 28,\n",
            " 'log_count/DEBUG': 42,\n",
            " 'log_count/INFO': 11,\n",
            " 'memusage/max': 419082240,\n",
            " 'memusage/startup': 419082240,\n",
            " 'request_depth_max': 1,\n",
            " 'response_received_count': 11,\n",
            " 'scheduler/dequeued': 11,\n",
            " 'scheduler/dequeued/memory': 11,\n",
            " 'scheduler/enqueued': 11,\n",
            " 'scheduler/enqueued/memory': 11,\n",
            " 'start_time': datetime.datetime(2022, 12, 14, 18, 19, 8, 19892)}\n",
            "2022-12-14 18:19:12 [scrapy.core.engine] INFO: Spider closed (finished)\n"
          ]
        }
      ],
      "source": [
        "!cd scrapy/project_faces && scrapy crawl FindFaces -o faces.json"
      ]
    },
    {
      "cell_type": "markdown",
      "metadata": {
        "id": "Cq1PRakRkNaL"
      },
      "source": [
        "# Implementación del ejercicio del collage"
      ]
    },
    {
      "cell_type": "code",
      "execution_count": 103,
      "metadata": {
        "id": "mBgJljM0x0rN"
      },
      "outputs": [],
      "source": [
        "from io import BytesIO\n",
        "import cv2\n",
        "from PIL import Image\n",
        "import json\n",
        "import numpy as np\n",
        "import requests"
      ]
    },
    {
      "cell_type": "code",
      "execution_count": 106,
      "metadata": {
        "id": "Im0QjPKxyFKb"
      },
      "outputs": [],
      "source": [
        "json_file = 'scrapy/project_faces/faces.json'\n",
        "with open(json_file, 'r') as f:\n",
        "  data = json.load(f)\n",
        "\n",
        "images = []\n",
        "for item in data:\n",
        "  url = item[\"img\"]\n",
        "  img = Image.open(BytesIO(requests.get(url).content))\n",
        "  img = cv2.cvtColor(np.array(img), cv2.COLOR_RGB2BGR)\n",
        "  images.append(img)"
      ]
    },
    {
      "cell_type": "code",
      "execution_count": 110,
      "metadata": {
        "colab": {
          "base_uri": "https://localhost:8080/"
        },
        "id": "SdB5t2j_y0ra",
        "outputId": "0e2863e1-2c8c-46ca-9143-8af80b197103"
      },
      "outputs": [
        {
          "output_type": "stream",
          "name": "stdout",
          "text": [
            "Found 0 Faces!\n",
            "Found 0 Faces!\n",
            "Found 0 Faces!\n",
            "Found 2 Faces!\n",
            "Found 1 Faces!\n",
            "Found 1 Faces!\n",
            "Found 1 Faces!\n",
            "Found 0 Faces!\n",
            "Found 0 Faces!\n",
            "Found 2 Faces!\n",
            "Found 3 Faces!\n",
            "Found 0 Faces!\n",
            "Found 1 Faces!\n",
            "Found 1 Faces!\n",
            "Found 0 Faces!\n",
            "Found 1 Faces!\n",
            "Found 0 Faces!\n",
            "Found 0 Faces!\n",
            "Found 0 Faces!\n",
            "Found 0 Faces!\n",
            "Found 1 Faces!\n",
            "Found 0 Faces!\n",
            "Found 2 Faces!\n",
            "Found 0 Faces!\n",
            "Found 0 Faces!\n",
            "Found 0 Faces!\n",
            "Found 0 Faces!\n",
            "Found 0 Faces!\n"
          ]
        }
      ],
      "source": [
        "faceCascade = cv2.CascadeClassifier(cv2.data.haarcascades + \"haarcascade_frontalface_default.xml\")\n",
        "faces_coords = []\n",
        "face_count = 0\n",
        "for img in images:\n",
        "  gray = cv2.cvtColor(img, cv2.COLOR_BGR2GRAY)\n",
        "  faces = faceCascade.detectMultiScale(\n",
        "        gray,\n",
        "        scaleFactor = 1.2,\n",
        "        minNeighbors = 8,\n",
        "        minSize = (30, 30)\n",
        "  )\n",
        "  faces_coords.append(faces)\n",
        "  print(\"Found {0} Faces!\".format(len(faces)))\n",
        "  face_count += len(faces)"
      ]
    },
    {
      "cell_type": "code",
      "execution_count": 111,
      "metadata": {
        "id": "yFCBXz66aabi"
      },
      "outputs": [],
      "source": [
        "import os\n",
        "\n",
        "# Creamos un directorio donde guardaremos las imágenes recortadas\n",
        "if not os.path.exists('scrapy/project_faces/faces_images'):\n",
        "  os.makedirs('scrapy/project_faces/faces_images')\n",
        "\n",
        "# Bucle for en el que guardamos el indice (para su posterior nombre) y las caras\n",
        "face_count = 0\n",
        "for i, faces in enumerate(faces_coords):\n",
        "  # Bucle for para recorrer cada cara\n",
        "  for face in faces:\n",
        "    # Metemos cada valor de las coordenadas en una variable\n",
        "    x, y, w, h = face\n",
        "    # Metemos en una variable la parte de la imagen que nos interesa utilizando las coordenadas de la cara detectada  \n",
        "    face_image = np.array(images[i])[y:y+h, x:x+w]\n",
        "    # Creamos una imagen PIL para luego guardarla\n",
        "    pil_image = Image.fromarray(face_image)\n",
        "    # Guardamos la imagen recortada \n",
        "    pil_image.save(f'scrapy/project_faces/faces_images/face_{i}_{face_count}.jpg')\n",
        "    face_count += 1\n",
        "    "
      ]
    },
    {
      "cell_type": "code",
      "execution_count": 112,
      "metadata": {
        "id": "cXlBI0ziFNAZ"
      },
      "outputs": [],
      "source": [
        "if os.path.exists('scrapy/project_faces/faces_images/.ipynb_checkpoints'):\n",
        "  os.rmdir('scrapy/project_faces/faces_images/.ipynb_checkpoints')\n",
        "\n",
        "# Creamos una lista con todas las imagenes\n",
        "collage_images = []\n",
        "for file in os.listdir('scrapy/project_faces/faces_images'):\n",
        "  img = Image.open(f'scrapy/project_faces/faces_images/{file}')\n",
        "  # Redimensionamos las imagenes\n",
        "  img = img.resize((100, 100))\n",
        "  collage_images.append(img)\n",
        "\n",
        "# Barajamos las imagenes\n",
        "import random\n",
        "random.shuffle(collage_images)\n",
        "\n",
        "# Ponemos el tamaño del ancho de nuestro collage\n",
        "collage_width = 500\n",
        "\n",
        "# Calculamos el numero de columnas y filas que necesitamos\n",
        "num_images = len(collage_images)\n",
        "width, height = collage_images[0].size\n",
        "num_cols = int(collage_width / width)\n",
        "num_rows = int(num_images / num_cols) + (num_images % num_cols > 0)\n",
        "\n",
        "# Si nos hacen faltan mas imagenes, repite una de llas\n",
        "i=0\n",
        "while len(collage_images) < num_cols * num_rows:\n",
        "  collage_images.append(collage_images[i])\n",
        "  i+=1\n",
        "# Creamos la imagen del collage\n",
        "collage = Image.new('RGB', (collage_width, height * num_rows))\n",
        "\n",
        "# Pegamos cada imagen en el collage\n",
        "for i, img in enumerate(collage_images):\n",
        "  x = i % num_cols\n",
        "  y = int(i / num_cols)\n",
        "  collage.paste(img, (x * width, y * height))\n",
        "\n",
        "# Guardamos el collage\n",
        "collage.save('scrapy/project_faces/faces_images/collage.jpg')\n"
      ]
    }
  ],
  "metadata": {
    "colab": {
      "provenance": [],
      "include_colab_link": true
    },
    "kernelspec": {
      "display_name": "Python 3",
      "name": "python3"
    },
    "language_info": {
      "name": "python"
    }
  },
  "nbformat": 4,
  "nbformat_minor": 0
}